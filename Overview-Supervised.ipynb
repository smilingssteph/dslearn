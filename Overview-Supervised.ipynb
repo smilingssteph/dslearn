{
 "cells": [
  {
   "cell_type": "markdown",
   "metadata": {},
   "source": [
    "# Overview of Supervised Learning"
   ]
  },
  {
   "cell_type": "markdown",
   "metadata": {},
   "source": [
    "## I. Simple Prediction Methods"
   ]
  },
  {
   "cell_type": "markdown",
   "metadata": {},
   "source": [
    "### Linear model fit by least squares"
   ]
  },
  {
   "cell_type": "markdown",
   "metadata": {},
   "source": [
    "$\n",
    "\\text{RSS}(\\beta) = \\sum_{i=1}^{N}{(y_i-x_i^T\\beta)^2} \\\\\n",
    "\\text{RSS}(\\beta) = (y-X\\beta)^T(y-X\\beta) \\\\\n",
    "X^T(y-X\\beta) = 0 \\\\\n",
    "\\hat{\\beta} = (X^TX)^{-1}X^Ty\n",
    "$"
   ]
  },
  {
   "cell_type": "markdown",
   "metadata": {},
   "source": [
    "### Nearest-neighbors methods"
   ]
  },
  {
   "cell_type": "markdown",
   "metadata": {},
   "source": [
    "$\\hat{Y}(x) = \\frac{1}{k}\\sum_{x_i \\in N_k(x)}{y_i} \\\\$\n",
    "In plain English, find the $k$ observations with $x_i$ closest to $x$ with closeness defined by a specified metric. Then, average the $k$ responses."
   ]
  },
  {
   "cell_type": "markdown",
   "metadata": {},
   "source": [
    "##### Linear regression more appropriate if the training data was generated from one bivariate Gaussian distribution (with uncorrelated components and different means), while K-nearest neighbors more appropriate if the training data came from a mixture of low-variance Gaussian distributions (with individual means themselves distributed as Gaussian)."
   ]
  },
  {
   "cell_type": "markdown",
   "metadata": {},
   "source": [
    "## II. Statistical Decision Theory Framework"
   ]
  },
  {
   "cell_type": "markdown",
   "metadata": {},
   "source": [
    "Expected prediction error $\\text{EPE}(f) = \\text{E}(Y-f(X))^2$ where loss function $L(Y,f(X)) = (Y-f(X))^2$\n",
    "$\\\\$ Conditioning on X and then minimizing pointwise, we get $f(x) = \\text{E}(Y|X=x)$"
   ]
  },
  {
   "cell_type": "markdown",
   "metadata": {},
   "source": [
    "### Model assumptions under this framework"
   ]
  },
  {
   "cell_type": "markdown",
   "metadata": {},
   "source": [
    "Least squares: $f(x) \\approx x^T\\beta$ meaning $f(x)$ approximated by globally linear function"
   ]
  },
  {
   "cell_type": "markdown",
   "metadata": {},
   "source": [
    "k-nearest neighbors: $f(x)$ approximated by locally constant function"
   ]
  }
 ],
 "metadata": {
  "kernelspec": {
   "display_name": "Python 3",
   "language": "python",
   "name": "python3"
  },
  "language_info": {
   "codemirror_mode": {
    "name": "ipython",
    "version": 3
   },
   "file_extension": ".py",
   "mimetype": "text/x-python",
   "name": "python",
   "nbconvert_exporter": "python",
   "pygments_lexer": "ipython3",
   "version": "3.8.5"
  }
 },
 "nbformat": 4,
 "nbformat_minor": 4
}
